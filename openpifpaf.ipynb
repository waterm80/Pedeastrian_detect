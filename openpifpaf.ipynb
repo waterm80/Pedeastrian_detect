{
  "nbformat": 4,
  "nbformat_minor": 0,
  "metadata": {
    "colab": {
      "provenance": [],
      "collapsed_sections": [],
      "include_colab_link": true
    },
    "kernelspec": {
      "name": "python3",
      "display_name": "Python 3"
    },
    "gpuClass": "standard"
  },
  "cells": [
    {
      "cell_type": "markdown",
      "metadata": {
        "id": "view-in-github",
        "colab_type": "text"
      },
      "source": [
        "<a href=\"https://colab.research.google.com/github/waterm80/Pedestrian_detect/blob/master/openpifpaf.ipynb\" target=\"_parent\"><img src=\"https://colab.research.google.com/assets/colab-badge.svg\" alt=\"Open In Colab\"/></a>"
      ]
    },
    {
      "cell_type": "code",
      "source": [
        "from google.colab import drive\n",
        "drive.mount('/content/drive')"
      ],
      "metadata": {
        "id": "joI5wE4ox552",
        "outputId": "c3c44445-b07f-4b56-c908-e7e1d362556a",
        "colab": {
          "base_uri": "https://localhost:8080/"
        }
      },
      "execution_count": null,
      "outputs": [
        {
          "output_type": "stream",
          "name": "stdout",
          "text": [
            "Mounted at /content/drive\n"
          ]
        }
      ]
    },
    {
      "cell_type": "code",
      "metadata": {
        "id": "E6jGtHiH7efc"
      },
      "source": [
        "!pip install openpifpaf==0.13.0"
      ],
      "execution_count": null,
      "outputs": []
    },
    {
      "cell_type": "code",
      "metadata": {
        "id": "6O_hZNsW7hwV"
      },
      "source": [
        "import numpy as np\n",
        "import openpifpaf\n",
        "import PIL\n",
        "import torch\n",
        "import os"
      ],
      "execution_count": null,
      "outputs": []
    },
    {
      "cell_type": "code",
      "source": [
        "# 把crossing圖片名稱重新編號並固定大小\n",
        "\n",
        "src = '/content/drive/MyDrive/img/original/crossing'\n",
        "cnt = 0\n",
        "\n",
        "for filename in os.listdir(src):\n",
        "  cnt += 1\n",
        "  os.rename(src + '/' + filename, src + '/' + str(cnt) + \".jpg\")\n",
        "  img = PIL.Image.open(src + '/' + str(cnt) + \".jpg\")\n",
        "  img = img.resize((300, 300))\n",
        "  img.save(src + '/' + str(cnt) + \".jpg\")"
      ],
      "metadata": {
        "id": "7-4HVt5cGqeE"
      },
      "execution_count": null,
      "outputs": []
    },
    {
      "cell_type": "code",
      "source": [
        "# 把labeled_crossing圖片名稱重新編號並固定大小\n",
        "\n",
        "src = '/content/drive/MyDrive/img/labeled/crossing'\n",
        "cnt = 1000\n",
        "\n",
        "for filename in os.listdir(src):\n",
        "  cnt += 1\n",
        "  os.rename(src + '/' + filename, src + '/' + str(cnt) + \".jpg\")"
      ],
      "metadata": {
        "id": "gIhrk3GQSCcY"
      },
      "execution_count": null,
      "outputs": []
    },
    {
      "cell_type": "code",
      "source": [
        "# 把clear圖片名稱重新編號並固定大小\n",
        "\n",
        "src = '/content/drive/MyDrive/img/original/clear'\n",
        "cnt = 0\n",
        "\n",
        "for filename in os.listdir(src):\n",
        "  cnt += 1\n",
        "  os.rename(src + '/' + filename, src + '/' + str(cnt) + \".jpg\")\n",
        "  img = PIL.Image.open(src + '/' + str(cnt) + \".jpg\")\n",
        "  img = img.resize((300, 300))\n",
        "  img.save(src + '/' + str(cnt) + \".jpg\")"
      ],
      "metadata": {
        "id": "XkV6Lctcan1R"
      },
      "execution_count": null,
      "outputs": []
    },
    {
      "cell_type": "code",
      "source": [
        "# 把labeled_clear圖片名稱重新編號並固定大小\n",
        "\n",
        "src = '/content/drive/MyDrive/img/labeled/clear'\n",
        "cnt = 0\n",
        "\n",
        "for filename in os.listdir(src):\n",
        "  cnt += 1\n",
        "  os.rename(src + '/' + filename, src + '/' + str(cnt) + \".jpg\")"
      ],
      "metadata": {
        "id": "ANF_DfCUVdz2"
      },
      "execution_count": null,
      "outputs": []
    },
    {
      "cell_type": "code",
      "metadata": {
        "id": "yiYrHVajoiXt"
      },
      "source": [
        "# 將crossing中的行人標記\n",
        "\n",
        "src = '/content/drive/MyDrive/img/original/crossing'\n",
        "\n",
        "for filename in os.listdir(src):\n",
        "  f = os.path.join(src, filename)\n",
        "  pil_im = PIL.Image.open(f).convert('RGB')\n",
        "  im = np.asarray(pil_im)\n",
        "\n",
        "  openpifpaf.show.Canvas.show = True\n",
        "  \n",
        "  predictor = openpifpaf.Predictor(checkpoint='shufflenetv2k16')\n",
        "  predictions, gt_anns, image_meta = predictor.pil_image(pil_im)\n",
        "\n",
        "  annotation_painter = openpifpaf.show.AnnotationPainter()\n",
        "\n",
        "  with openpifpaf.show.image_canvas(im, fig_file='out.jpg') as ax:\n",
        "    annotation_painter.annotations(ax, predictions)\n",
        "    PIL.Image.save('/content/drive/MyDrive/img/unlabeled')"
      ],
      "execution_count": null,
      "outputs": []
    }
  ]
}